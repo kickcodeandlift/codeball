{
 "metadata": {
  "language_info": {
   "codemirror_mode": {
    "name": "ipython",
    "version": 3
   },
   "file_extension": ".py",
   "mimetype": "text/x-python",
   "name": "python",
   "nbconvert_exporter": "python",
   "pygments_lexer": "ipython3",
   "version": "3.8.2-final"
  },
  "orig_nbformat": 2,
  "kernelspec": {
   "name": "python_defaultSpec_1599144986204",
   "display_name": "Python 3.8.2 64-bit ('env': venv)"
  }
 },
 "nbformat": 4,
 "nbformat_minor": 2,
 "cells": [
  {
   "cell_type": "code",
   "execution_count": 13,
   "metadata": {},
   "outputs": [],
   "source": [
    "## Append package folder to sys.path\n",
    "# Append packge path to sys.path to be able to import codeall from the repo folder. \n",
    "# If you want to use a codeball version installed via pip don't run this cell. \n",
    "import sys\n",
    "sys.path.insert(1, '../')"
   ]
  },
  {
   "cell_type": "code",
   "execution_count": 14,
   "metadata": {},
   "outputs": [],
   "source": [
    "## Import modules\n",
    "# GameDataset is a class that will hold methods and data for one game.\n",
    "# PatternsSet is a calss that willhold methods, patterns, and pattern_events data\n",
    "# for this game. \n",
    "from codeball import GameDataset, PatternsSet"
   ]
  },
  {
   "cell_type": "code",
   "execution_count": 15,
   "metadata": {},
   "outputs": [],
   "source": [
    "## Load data and instantiate GameDataset\n",
    "\n",
    "# Define data files. Currently reading the files in the test folder of the package.\n",
    "metadata_file = (r\"../codeball/tests/files/metadata.xml\")\n",
    "tracking_file = (r\"../codeball/tests/files/tracking.txt\")\n",
    "events_file = (r\"../codeball/tests/files/events.json\")\n",
    "\n",
    "# Initialize game dataset. This loads the data for each data type using Kloppy, and \n",
    "# then stores it on game_dataset as instances of TrackinDataFrame and EventsDataFrame. \n",
    "# Both of them are subclasses of a pandas Dataframe. Other than holding the data in a \n",
    "# dataframe, they also have methods to work with, filter, etc the data they contain.\n",
    "game_dataset = GameDataset(\n",
    "    tracking_metadata_file=metadata_file,\n",
    "    tracking_data_file=tracking_file,\n",
    "    events_metadata_file=metadata_file,\n",
    "    events_data_file=events_file,\n",
    ")"
   ]
  },
  {
   "cell_type": "code",
   "execution_count": 16,
   "metadata": {},
   "outputs": [],
   "source": [
    "## Instantiate PatternSet and run and export patterns for play. \n",
    "\n",
    "# This instantiates a PatternsSet instance. It takes as arugment a GameDataset\n",
    "# instance so that all patterns can have access to the data of the game. Conceptually\n",
    "# a pattern is an analysis that will return the moments in the game a certain thing \n",
    "# happend, with that thing being defined in the pattern / analysis. For example, look\n",
    "# for all passes into the box. \n",
    "patterns_set = PatternsSet(game_dataset=game_dataset)\n",
    "\n",
    "# This initializes the patter reading the patterns config from \n",
    "# ../codeball/patterns/patterns_config.json. However you can specify your own pattern\n",
    "# config by providing it as an input to initialize_patterns()\n",
    "patterns_set.initialize_patterns()\n",
    "\n",
    "# Iterates over all the patterns in the PatternSet and runs them. \n",
    "patterns_set.run_patterns()\n",
    "\n",
    "# This method takes all the Patterns and PatternEvents in the PatternsSet and outputs\n",
    "# them on a json fotmat that can be importe into Metrica Play via Metrica Cloud. \n",
    "patterns_set.save_patterns_for_play(\"output.patt\")"
   ]
  }
 ]
}